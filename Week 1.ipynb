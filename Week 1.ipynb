{
 "cells": [
  {
   "cell_type": "markdown",
   "id": "cbf303be",
   "metadata": {},
   "source": [
    "# 1 (a)  (seperate first name, last name, host name from email id)"
   ]
  },
  {
   "cell_type": "code",
   "execution_count": 1,
   "id": "81904290",
   "metadata": {},
   "outputs": [
    {
     "name": "stdout",
     "output_type": "stream",
     "text": [
      "Enter you email address in format (firstname.lastname@xyz.edu) :\n",
      "hrihsikant.mehta@gmail.com\n",
      "First Name :  hrihsikant\n",
      "Last Name :  mehta\n",
      "Host Name :  gmail.com\n"
     ]
    }
   ],
   "source": [
    "print('Enter you email address in format (firstname.lastname@xyz.edu) :')\n",
    "email=input()\n",
    "\n",
    "name=email.split('@')[0]\n",
    "hostName=email.split('@')[1]\n",
    "\n",
    "firstName=name.split('.')[0]\n",
    "lastName=name.split('.')[1]\n",
    "\n",
    "print('First Name : ',firstName)\n",
    "print('Last Name : ',lastName)\n",
    "print('Host Name : ',hostName)"
   ]
  },
  {
   "cell_type": "markdown",
   "id": "25111ecf",
   "metadata": {},
   "source": [
    "# 1 (b) (Integer to Roman)"
   ]
  },
  {
   "cell_type": "code",
   "execution_count": 2,
   "id": "e3d5f600",
   "metadata": {},
   "outputs": [
    {
     "name": "stdout",
     "output_type": "stream",
     "text": [
      "Enter a positive integer: 1234\n",
      "Converted in Roman :  MCCXXXIV"
     ]
    }
   ],
   "source": [
    "number = int(input(\"Enter a positive integer: \"))\n",
    "num = [1, 4, 5, 9, 10, 40, 50, 90, 100, 400, 500, 900, 1000]\n",
    "rom = [\"I\", \"IV\", \"V\", \"IX\", \"X\", \"XL\", \"L\", \"XC\", \"C\", \"CD\", \"D\", \"CM\", \"M\"]\n",
    "\n",
    "def intToRoman(number):\n",
    "\n",
    "    i = 12\n",
    "\n",
    "    while number:\n",
    "        div = number // num[i]\n",
    "        number %= num[i]\n",
    "\n",
    "        while div:\n",
    "            print(rom[i], end = \"\")\n",
    "            div -= 1\n",
    "        i -= 1\n",
    "\n",
    "print('Converted in Roman : ',end=' ')\n",
    "intToRoman(number)"
   ]
  },
  {
   "cell_type": "markdown",
   "id": "da2ab475",
   "metadata": {},
   "source": [
    "# 1 (c) (Calculate BMI)"
   ]
  },
  {
   "cell_type": "code",
   "execution_count": 3,
   "id": "e8859d3a",
   "metadata": {},
   "outputs": [
    {
     "name": "stdout",
     "output_type": "stream",
     "text": [
      "Enter the height in cm: 180\n",
      "Enter the weight in kg: 75\n",
      "User's Body Mass Index is 23.148148148148145\n",
      "Normal\n"
     ]
    }
   ],
   "source": [
    "height = float(input(\"Enter the height in cm: \"))\n",
    "weight = float(input(\"Enter the weight in kg: \"))\n",
    "\n",
    "BMI = weight / (height/100)**2\n",
    "print(\"User's Body Mass Index is\", BMI)\n",
    "\n",
    "if BMI <= 18.5:\n",
    "    print(\"Underweight\")\n",
    "elif BMI <= 24.9:\n",
    "    print(\"Normal\") \n",
    "elif BMI <= 29.9:\n",
    "    print(\"Overweight\")\n",
    "else:\n",
    "    print(\"Obese\")"
   ]
  }
 ],
 "metadata": {
  "kernelspec": {
   "display_name": "Python 3 (ipykernel)",
   "language": "python",
   "name": "python3"
  },
  "language_info": {
   "codemirror_mode": {
    "name": "ipython",
    "version": 3
   },
   "file_extension": ".py",
   "mimetype": "text/x-python",
   "name": "python",
   "nbconvert_exporter": "python",
   "pygments_lexer": "ipython3",
   "version": "3.9.12"
  }
 },
 "nbformat": 4,
 "nbformat_minor": 5
}
